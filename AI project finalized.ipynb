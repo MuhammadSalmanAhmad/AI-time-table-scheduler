{
 "cells": [
  {
   "cell_type": "code",
   "execution_count": 1,
   "id": "a1ccdc97",
   "metadata": {},
   "outputs": [],
   "source": [
    "import tkinter as tk"
   ]
  },
  {
   "cell_type": "code",
   "execution_count": 2,
   "id": "217988fb",
   "metadata": {},
   "outputs": [],
   "source": [
    "\n",
    "def get_input():\n",
    "    global subjects_response\n",
    "    global rooms_response\n",
    "    subjects_response=subjects_entry.get(\"1.0\", \"end-1c\")\n",
    "    print(subjects_response)\n",
    "    rooms_response=rooms_entry.get(\"1.0\", \"end-1c\")\n",
    "    #subjects=subjects_response.split(\",\")\n",
    "    #print(subjects)"
   ]
  },
  {
   "cell_type": "code",
   "execution_count": 13,
   "id": "79da22b9",
   "metadata": {},
   "outputs": [],
   "source": [
    "\n",
    "root=tk.Tk()\n",
    "root.geometry(\"500x500\")\n",
    "root.title(\"AIR UNIVERSITY TIMETABLE SCHEDULER\")\n",
    "label=tk.Label(root,text=\"WELCOME TO AI CLASS SHEDULER\",font=(\"Arial\",18,\"bold\"),bg=\"#5D4037\",fg=\"white\")\n",
    "root.configure(bg=\"#5D4037\")\n",
    "label.pack(pady=20)\n",
    "label1=tk.Label(root,text=\"Enter your subjects\",bg=\"#5D4037\",fg=\"white\",font=(\"Arial\",15))\n",
    "label1.place(x=50,y=120)\n",
    "subjects_entry = tk.Text(root,height=2,width=50)\n",
    "subjects_entry.place(x=50,y=150)\n",
    "label2=tk.Label(root,text=\"Enter your rooms\",bg=\"#5D4037\",fg=\"white\",font=(\"Arial\",15))\n",
    "label2.place(x=50,y=200)\n",
    "rooms_entry = tk.Text(root,height=2,width=50)\n",
    "rooms_entry.place(x=50,y=250)\n",
    "button=tk.Button(root,text=\"SUBMIT\",font=(\"Arial\",18),command=lambda:get_input())\n",
    "button.place(x=200,y=400)\n",
    "root.mainloop()"
   ]
  },
  {
   "cell_type": "code",
   "execution_count": null,
   "id": "8cd0a230",
   "metadata": {},
   "outputs": [],
   "source": []
  },
  {
   "cell_type": "code",
   "execution_count": 4,
   "id": "a01e974e",
   "metadata": {},
   "outputs": [],
   "source": [
    "import random\n",
    "days=['Monday','Tuesday','Wednesday','Thursday','Friday']\n",
    "time=[8,9,10,11,12,1,2]\n",
    "Subjects=subjects_response.split(\",\")\n",
    "Rooms=rooms_response.split(\",\")\n",
    "def generate_chromosome():\n",
    "\n",
    "  chromosome=[random.choice(days),random.choice(Subjects),random.choice(time),random.choice(Rooms)]\n",
    "  return chromosome"
   ]
  },
  {
   "cell_type": "code",
   "execution_count": 5,
   "id": "6ef5b0f4",
   "metadata": {},
   "outputs": [],
   "source": [
    "def generate_population(population_size):\n",
    "  data=[]\n",
    "\n",
    "  for i in range(population_size):\n",
    "    result=generate_chromosome()\n",
    "    if result in data:\n",
    "      continue\n",
    "    else:\n",
    "      data.append(result)\n",
    "  return data\n",
    "  \n"
   ]
  },
  {
   "cell_type": "code",
   "execution_count": 6,
   "id": "95cbd698",
   "metadata": {},
   "outputs": [
    {
     "name": "stdout",
     "output_type": "stream",
     "text": [
      "94\n"
     ]
    }
   ],
   "source": [
    "global population\n",
    "population=generate_population(100)\n",
    "\n",
    "\n",
    "print(len(population))\n",
    "\n",
    "#print(population[1][0][0])"
   ]
  },
  {
   "cell_type": "code",
   "execution_count": 7,
   "id": "4990e90d",
   "metadata": {},
   "outputs": [],
   "source": [
    "def fitness_function(population_list):\n",
    "  #fitness function which checks the number of clashes or conflicts of each lecture session where a conflict is if more than one leacture takes place \n",
    "  #at the same day,time and classroom\n",
    "  conflicts=0\n",
    "  discovered=[]\n",
    "  \n",
    "  conflicts_dictionary={}\n",
    "  for i in population_list:\n",
    "    conflicts_list=[]\n",
    "    for j in population_list:\n",
    "      \n",
    "      if population_list.index(i)==population_list.index(j):\n",
    "        continue\n",
    "      elif i in discovered or j in discovered:\n",
    "        continue\n",
    "      elif i[0]==j[0] and i[2]==j[2] and i[3]==j[3]:\n",
    "        #discovered.append(i)\n",
    "        #discovered.append(j)\n",
    "        conflicts_list.append(j)\n",
    "        #print(f\"conflicts list  : {conflicts_list}\")\n",
    "        #print(f\"Item {i} at index {population_list.index(i)} is equal to item {j} at index {population_list.index(j)}.\")\n",
    "        conflicts_dictionary[population_list.index(i)]=conflicts_list\n",
    "        conflicts=conflicts+1\n",
    "        \n",
    "  print(conflicts)\n",
    "  #print(conflicts_dictionary)\n",
    "  return conflicts_dictionary"
   ]
  },
  {
   "cell_type": "code",
   "execution_count": 8,
   "id": "034b3230",
   "metadata": {},
   "outputs": [],
   "source": [
    "def selection_function():\n",
    "    selected=[]\n",
    "\n",
    "    pairs_For_selection=fitness_function(population)\n",
    "    #print(pairs_For_selection)\n",
    "    #print(pairs_For_selection.keys())\n",
    "    for i in range(len(list(pairs_For_selection.keys()))):\n",
    "\n",
    "      index_of_first_parent=random.choice(list(pairs_For_selection.keys())) #basically parent 1\n",
    "      index_of_second_parent=random.choice(list(pairs_For_selection.keys())) # basically parent 2\n",
    "      if len(pairs_For_selection[index_of_first_parent])<len(pairs_For_selection[index_of_second_parent]):\n",
    "        selected.append(pairs_For_selection[index_of_first_parent])\n",
    "      \n",
    "      elif len(pairs_For_selection[index_of_second_parent])<len(pairs_For_selection[index_of_first_parent]):\n",
    "        selected.append(pairs_For_selection[index_of_second_parent])\n",
    "      elif pairs_For_selection[index_of_first_parent] or pairs_For_selection[index_of_second_parent] in selected:\n",
    "        continue\n",
    "    #print (selected)\n",
    "    #x=pairs_For_selection[13]\n",
    "    #print(len(x))\n",
    "    print(len(selected))\n",
    "    return selected\n",
    "    "
   ]
  },
  {
   "cell_type": "code",
   "execution_count": 9,
   "id": "e4bad43e",
   "metadata": {},
   "outputs": [],
   "source": [
    "\n",
    "def cross_over():\n",
    "  from collections import OrderedDict \n",
    "  parents=selection_function()\n",
    "  childrens=[]\n",
    "  flat_parent_list = [num for sublist in parents for num in sublist]\n",
    "  for i in range(len(flat_parent_list)):\n",
    "    parent_1=random.choice(flat_parent_list)\n",
    "    parent_2=random.choice(flat_parent_list)\n",
    "    child_1=parent_1[0:2]+parent_2[2:]\n",
    "    child_2=parent_2[0:2]+parent_1[2:]\n",
    "    childrens.append(child_1)\n",
    "    childrens.append(child_2)\n",
    "  \n",
    "  \n",
    "  #print(parents)\n",
    "  print(flat_parent_list)\n",
    "  print(f\"childrens = {childrens}\")\n",
    "  return childrens"
   ]
  },
  {
   "cell_type": "code",
   "execution_count": 10,
   "id": "cd257102",
   "metadata": {},
   "outputs": [
    {
     "name": "stdout",
     "output_type": "stream",
     "text": [
      "36\n",
      "9\n",
      "[['Monday', 'AI', 2, '301'], ['Monday', 'Data Science', 9, '302'], ['Thursday', 'Ml', 11, '301'], ['Thursday', 'AI', 2, '302'], ['Wednesday', 'Data Science', 8, '302'], ['Thursday', 'calculus', 2, '302'], ['Thursday', 'calculus', 2, '302'], ['Monday', 'Data Science', 8, '201'], ['Thursday', 'AI', 2, '302']]\n",
      "childrens = [['Monday', 'Data Science', 9, '302'], ['Monday', 'Data Science', 9, '302'], ['Thursday', 'Ml', 9, '302'], ['Monday', 'Data Science', 11, '301'], ['Thursday', 'AI', 2, '302'], ['Thursday', 'AI', 2, '302'], ['Thursday', 'AI', 8, '302'], ['Wednesday', 'Data Science', 2, '302'], ['Thursday', 'AI', 2, '302'], ['Thursday', 'AI', 2, '302'], ['Thursday', 'calculus', 2, '302'], ['Thursday', 'calculus', 2, '302'], ['Thursday', 'calculus', 11, '301'], ['Thursday', 'Ml', 2, '302'], ['Monday', 'Data Science', 11, '301'], ['Thursday', 'Ml', 9, '302'], ['Thursday', 'AI', 2, '302'], ['Thursday', 'calculus', 2, '302']]\n"
     ]
    }
   ],
   "source": [
    "childrens_set=cross_over()"
   ]
  },
  {
   "cell_type": "code",
   "execution_count": 11,
   "id": "038f8185",
   "metadata": {},
   "outputs": [],
   "source": [
    "def mutation(childs):\n",
    "  ## Introduce random changes to a chromosome to prevent premature convergence\n",
    "  set_of_result=set()\n",
    "  for i in childs:\n",
    "    num=random.randint(0,5)\n",
    "    if i[2]>10:\n",
    "      i[2]=i[2]-num\n",
    "  \n",
    "\n",
    "    elif i[2]>5:\n",
    "      i[2]=i[2]+num\n",
    "    elif i[2]<5:\n",
    "      i[2]=i[2]+num\n",
    "    set_of_result.add(str(i))\n",
    "  return set_of_result\n",
    "  \n"
   ]
  },
  {
   "cell_type": "code",
   "execution_count": 12,
   "id": "7e403420",
   "metadata": {},
   "outputs": [
    {
     "data": {
      "text/plain": [
       "{\"['Monday', 'Data Science', 14, '302']\",\n",
       " \"['Monday', 'Data Science', 8, '301']\",\n",
       " \"['Thursday', 'AI', 2, '302']\",\n",
       " \"['Thursday', 'AI', 3, '302']\",\n",
       " \"['Thursday', 'AI', 5, '302']\",\n",
       " \"['Thursday', 'AI', 9, '302']\",\n",
       " \"['Thursday', 'Ml', 10, '302']\",\n",
       " \"['Thursday', 'Ml', 2, '302']\",\n",
       " \"['Thursday', 'Ml', 9, '302']\",\n",
       " \"['Thursday', 'calculus', 11, '301']\",\n",
       " \"['Thursday', 'calculus', 2, '302']\",\n",
       " \"['Thursday', 'calculus', 4, '302']\",\n",
       " \"['Thursday', 'calculus', 6, '302']\",\n",
       " \"['Wednesday', 'Data Science', 3, '302']\"}"
      ]
     },
     "execution_count": 12,
     "metadata": {},
     "output_type": "execute_result"
    }
   ],
   "source": [
    "result= set()\n",
    "mutation(childrens_set)\n"
   ]
  },
  {
   "cell_type": "code",
   "execution_count": null,
   "id": "83bd99d0",
   "metadata": {},
   "outputs": [],
   "source": []
  }
 ],
 "metadata": {
  "kernelspec": {
   "display_name": "Python 3 (ipykernel)",
   "language": "python",
   "name": "python3"
  },
  "language_info": {
   "codemirror_mode": {
    "name": "ipython",
    "version": 3
   },
   "file_extension": ".py",
   "mimetype": "text/x-python",
   "name": "python",
   "nbconvert_exporter": "python",
   "pygments_lexer": "ipython3",
   "version": "3.9.13"
  }
 },
 "nbformat": 4,
 "nbformat_minor": 5
}
